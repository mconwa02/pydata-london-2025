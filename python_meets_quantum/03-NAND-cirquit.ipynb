{
 "cells": [
  {
   "cell_type": "markdown",
   "metadata": {
    "id": "D8dIO9TBWc1l"
   },
   "source": [
    "# Toffoli gate\n",
    "\n",
    "\n",
    "Toffoli gate ensures that quantum computers are capable of performing any computation which a classica (and deterministic) computer can do.\n",
    "\n",
    "It implements the logic NAND port."
   ]
  },
  {
   "cell_type": "code",
   "execution_count": null,
   "metadata": {
    "colab": {
     "base_uri": "https://localhost:8080/"
    },
    "executionInfo": {
     "elapsed": 32727,
     "status": "ok",
     "timestamp": 1748509926683,
     "user": {
      "displayName": "Andrea Melloncelli",
      "userId": "15650964173338776568"
     },
     "user_tz": -120
    },
    "id": "pu4F4e7IbmbK",
    "outputId": "060314aa-a4a4-453a-ec74-b4ec0bb381bd"
   },
   "outputs": [
    {
     "name": "stdout",
     "output_type": "stream",
     "text": [
      "\n",
      "qiskit[all]~=2.0\n",
      "qiskit-ibm-runtime~=0.37\n",
      "qiskit-aer~=0.17\n",
      "\u001b[2K     \u001b[90m━━━━━━━━━━━━━━━━━━━━━━━━━━━━━━━━━━━━━━━\u001b[0m \u001b[32m162.6/162.6 kB\u001b[0m \u001b[31m4.7 MB/s\u001b[0m eta \u001b[36m0:00:00\u001b[0m\n",
      "\u001b[?25h  Preparing metadata (setup.py) ... \u001b[?25l\u001b[?25hdone\n",
      "  Preparing metadata (setup.py) ... \u001b[?25l\u001b[?25hdone\n",
      "\u001b[2K   \u001b[90m━━━━━━━━━━━━━━━━━━━━━━━━━━━━━━━━━━━━━━━━\u001b[0m \u001b[32m6.5/6.5 MB\u001b[0m \u001b[31m46.5 MB/s\u001b[0m eta \u001b[36m0:00:00\u001b[0m\n",
      "\u001b[2K   \u001b[90m━━━━━━━━━━━━━━━━━━━━━━━━━━━━━━━━━━━━━━━━\u001b[0m \u001b[32m3.2/3.2 MB\u001b[0m \u001b[31m53.8 MB/s\u001b[0m eta \u001b[36m0:00:00\u001b[0m\n",
      "\u001b[2K   \u001b[90m━━━━━━━━━━━━━━━━━━━━━━━━━━━━━━━━━━━━━━━━\u001b[0m \u001b[32m12.4/12.4 MB\u001b[0m \u001b[31m60.2 MB/s\u001b[0m eta \u001b[36m0:00:00\u001b[0m\n",
      "\u001b[2K   \u001b[90m━━━━━━━━━━━━━━━━━━━━━━━━━━━━━━━━━━━━━━━━\u001b[0m \u001b[32m363.9/363.9 kB\u001b[0m \u001b[31m16.0 MB/s\u001b[0m eta \u001b[36m0:00:00\u001b[0m\n",
      "\u001b[2K   \u001b[90m━━━━━━━━━━━━━━━━━━━━━━━━━━━━━━━━━━━━━━━━\u001b[0m \u001b[32m2.1/2.1 MB\u001b[0m \u001b[31m46.1 MB/s\u001b[0m eta \u001b[36m0:00:00\u001b[0m\n",
      "\u001b[2K   \u001b[90m━━━━━━━━━━━━━━━━━━━━━━━━━━━━━━━━━━━━━━━━\u001b[0m \u001b[32m49.5/49.5 kB\u001b[0m \u001b[31m2.3 MB/s\u001b[0m eta \u001b[36m0:00:00\u001b[0m\n",
      "\u001b[2K   \u001b[90m━━━━━━━━━━━━━━━━━━━━━━━━━━━━━━━━━━━━━━━━\u001b[0m \u001b[32m49.7/49.7 MB\u001b[0m \u001b[31m16.9 MB/s\u001b[0m eta \u001b[36m0:00:00\u001b[0m\n",
      "\u001b[2K   \u001b[90m━━━━━━━━━━━━━━━━━━━━━━━━━━━━━━━━━━━━━━━━\u001b[0m \u001b[32m69.5/69.5 kB\u001b[0m \u001b[31m3.9 MB/s\u001b[0m eta \u001b[36m0:00:00\u001b[0m\n",
      "\u001b[2K   \u001b[90m━━━━━━━━━━━━━━━━━━━━━━━━━━━━━━━━━━━━━━━━\u001b[0m \u001b[32m109.0/109.0 kB\u001b[0m \u001b[31m6.2 MB/s\u001b[0m eta \u001b[36m0:00:00\u001b[0m\n",
      "\u001b[2K   \u001b[90m━━━━━━━━━━━━━━━━━━━━━━━━━━━━━━━━━━━━━━━━\u001b[0m \u001b[32m130.5/130.5 kB\u001b[0m \u001b[31m8.2 MB/s\u001b[0m eta \u001b[36m0:00:00\u001b[0m\n",
      "\u001b[2K   \u001b[90m━━━━━━━━━━━━━━━━━━━━━━━━━━━━━━━━━━━━━━━━\u001b[0m \u001b[32m29.5/29.5 MB\u001b[0m \u001b[31m17.9 MB/s\u001b[0m eta \u001b[36m0:00:00\u001b[0m\n",
      "\u001b[2K   \u001b[90m━━━━━━━━━━━━━━━━━━━━━━━━━━━━━━━━━━━━━━━━\u001b[0m \u001b[32m541.5/541.5 kB\u001b[0m \u001b[31m5.0 MB/s\u001b[0m eta \u001b[36m0:00:00\u001b[0m\n",
      "\u001b[?25h  Building wheel for pylatexenc (setup.py) ... \u001b[?25l\u001b[?25hdone\n",
      "  Building wheel for python-constraint (setup.py) ... \u001b[?25l\u001b[?25hdone\n",
      "qiskit version: 2.0.2\n",
      "qiskit-ibm-runtime version: 0.40.0\n",
      "qiskit-aer version: 0.17.0\n"
     ]
    }
   ],
   "source": [
    "# Write the requirements\n",
    "!echo \"\" > requirements.txt\n",
    "!echo \"qiskit[all]~=2.0\" >> requirements.txt\n",
    "!echo \"qiskit-ibm-runtime~=0.37\" >> requirements.txt\n",
    "!echo \"qiskit-aer~=0.17\" >> requirements.txt\n",
    "!cat requirements.txt\n",
    "\n",
    "# Install the notebook requirements\n",
    "!pip install -q -r requirements.txt\n",
    "\n",
    "import qiskit\n",
    "import qiskit_ibm_runtime\n",
    "import qiskit_aer\n",
    "\n",
    "# Log package versions\n",
    "print(f\"qiskit version: {qiskit.__version__}\")\n",
    "print(f\"qiskit-ibm-runtime version: {qiskit_ibm_runtime.__version__}\")\n",
    "print(f\"qiskit-aer version: {qiskit_aer.__version__}\")"
   ]
  },
  {
   "cell_type": "markdown",
   "metadata": {
    "id": "L7Il_dJ6vrOt"
   },
   "source": [
    "Before run this part:\n",
    "\n",
    "1. Go to <https://quantum.ibm.com/> and copy the token\n",
    "2. Open the secret tab here on colab on the left.\n",
    "3. Create a new secret\n",
    "4. Enable the access of the notebook to the secret\n",
    "\n",
    "Name: QISKIT_IBM_TOKEN\n",
    "\n",
    "Value: \\<paste-your-token\\>"
   ]
  },
  {
   "cell_type": "code",
   "execution_count": null,
   "metadata": {
    "id": "wdYD27PHhMM8"
   },
   "outputs": [],
   "source": [
    "try:\n",
    "  from google.colab import userdata\n",
    "\n",
    "  IN_COLAB = True\n",
    "\n",
    "except:\n",
    "  IN_COLAB = False\n",
    "\n",
    "\n",
    "# if IN_COLAB:\n",
    "#   token = userdata.get(\"QISKIT_IBM_TOKEN\")\n",
    "# else:\n",
    "#   print(\"This notebook must be run on Colab\")\n",
    "\n",
    "\n",
    "from qiskit_ibm_runtime import QiskitRuntimeService\n"
   ]
  },
  {
   "cell_type": "markdown",
   "metadata": {
    "id": "Qr453VcJAkr6"
   },
   "source": [
    "## Utility Functions"
   ]
  },
  {
   "cell_type": "code",
   "execution_count": null,
   "metadata": {
    "id": "JgtLuGdIAm_y"
   },
   "outputs": [],
   "source": [
    "from math import pi\n",
    "from qiskit import QuantumCircuit\n",
    "from qiskit.quantum_info import Statevector, DensityMatrix\n",
    "from qiskit.visualization import plot_histogram, plot_bloch_multivector, plot_bloch_vector\n",
    "\n",
    "\n",
    "def probability_dict(qc):\n",
    "    psi = Statevector(qc)\n",
    "    proba =  DensityMatrix(psi).probabilities_dict()\n",
    "    # add 0s if not present\n",
    "    for i in range(2**len(qc.qubits)):\n",
    "        # status is a str, with a number of digits equal to the number of qubits\n",
    "        status = format(i, '0' + str(len(qc.qubits)) + 'b')\n",
    "        if status not in proba:\n",
    "            proba[status] = 0.\n",
    "    return proba\n",
    "\n",
    "\n",
    "def plot_probability(qc, title=\"\", ax=None):\n",
    "    legend = [title, ]\n",
    "\n",
    "    counts = probability_dict(qc)\n",
    "\n",
    "    plot_histogram(\n",
    "      [counts, ],\n",
    "      legend=legend,\n",
    "      color=['crimson',],\n",
    "      title=title\n",
    "    )\n",
    "\n",
    "    # Bigger labels\n",
    "    hist = plot_histogram(counts, sort='hamming', ax=ax, target_string='1')\n",
    "\n",
    "    return hist\n",
    "\n",
    "def plot_bloch(qc, title=\"\", ax=None):\n",
    "    psi = Statevector(qc)\n",
    "    if False: # len(qc.qubits) == 1:\n",
    "        return plot_bloch_vector(psi, title=title, figsize=(6, 6), ax=ax)\n",
    "    else:\n",
    "        return plot_bloch_multivector(psi, title=title, figsize=(6, 6))"
   ]
  },
  {
   "cell_type": "markdown",
   "metadata": {
    "id": "nYeUtdejXhUG"
   },
   "source": [
    "## The Algorithm\n"
   ]
  },
  {
   "cell_type": "markdown",
   "metadata": {
    "id": "TMkNTS47b21E"
   },
   "source": [
    "### Example 1\n",
    "\n",
    "---\n",
    "\n",
    "\n",
    "\n"
   ]
  },
  {
   "cell_type": "code",
   "execution_count": null,
   "metadata": {
    "colab": {
     "base_uri": "https://localhost:8080/",
     "height": 391
    },
    "executionInfo": {
     "elapsed": 371,
     "status": "ok",
     "timestamp": 1748510201793,
     "user": {
      "displayName": "Andrea Melloncelli",
      "userId": "15650964173338776568"
     },
     "user_tz": -120
    },
    "id": "mwaNHlTmUezy",
    "outputId": "8b2d8bd0-956d-4556-cb84-ac770755ade9"
   },
   "outputs": [
    {
     "name": "stdout",
     "output_type": "stream",
     "text": [
      "NAND(0, 0) = {'1': 1}\n",
      "NAND(0, 1) = {'1': 1}\n",
      "NAND(1, 0) = {'1': 1}\n",
      "NAND(1, 1) = {'0': 1}\n"
     ]
    },
    {
     "data": {
      "image/png": "[encoded data removed]",
      "text/plain": [
       "<Figure size 371.107x367.889 with 1 Axes>"
      ]
     },
     "execution_count": 13,
     "metadata": {},
     "output_type": "execute_result"
    }
   ],
   "source": [
    "from qiskit import QuantumCircuit # Import QuantumCircuit directly\n",
    "from qiskit.visualization import plot_histogram\n",
    "from qiskit_aer import Aer\n",
    "\n",
    "def nand_circuit(a, b):\n",
    "    qc = QuantumCircuit(3, 1)\n",
    "\n",
    "    # Initialize inputs\n",
    "    if a == 1:\n",
    "        qc.x(0)\n",
    "    if b == 1:\n",
    "        qc.x(1)\n",
    "\n",
    "    # Set target qubit to |1⟩\n",
    "    qc.x(2)\n",
    "\n",
    "    # Apply Toffoli: controls 0 and 1, target 2\n",
    "    qc.ccx(0, 1, 2)\n",
    "\n",
    "    # Measure the result\n",
    "    qc.measure(2, 0)\n",
    "\n",
    "    # Run simulation using the backend's run method\n",
    "    backend = Aer.get_backend('qasm_simulator')\n",
    "\n",
    "    result = backend.run(qc, shots=1).result()\n",
    "    counts = result.get_counts()\n",
    "\n",
    "    return qc, counts\n",
    "\n",
    "qc_ls = []\n",
    "# Test all input combinations\n",
    "for a in [0, 1]:\n",
    "    for b in [0, 1]:\n",
    "        qc, counts = nand_circuit(a, b)\n",
    "        qc_ls.append(qc)\n",
    "        print(f\"NAND({a}, {b}) = {counts}\")\n",
    "\n",
    "qc.draw(\"mpl\")"
   ]
  },
  {
   "cell_type": "code",
   "execution_count": null,
   "metadata": {
    "colab": {
     "base_uri": "https://localhost:8080/",
     "height": 463
    },
    "executionInfo": {
     "elapsed": 164,
     "status": "ok",
     "timestamp": 1748510516075,
     "user": {
      "displayName": "Andrea Melloncelli",
      "userId": "15650964173338776568"
     },
     "user_tz": -120
    },
    "id": "Wkzd4LW-VunJ",
    "outputId": "13441723-b113-47de-a5e2-4c778c54c77b"
   },
   "outputs": [
    {
     "name": "stdout",
     "output_type": "stream",
     "text": [
      "NAND(0, 0) = {'1': 1}\n",
      "NAND(0, 1) = {'1': 1}\n",
      "NAND(1, 0) = {'1': 1}\n",
      "NAND(1, 1) = {'0': 1}\n",
      "\n",
      "\n",
      "\n",
      "NAND(1, 0) = {'1': 1}\n"
     ]
    },
    {
     "data": {
      "image/png": "[encoded data removed]",
      "text/plain": [
       "<Figure size 371.107x367.889 with 1 Axes>"
      ]
     },
     "execution_count": 18,
     "metadata": {},
     "output_type": "execute_result"
    }
   ],
   "source": [
    "from qiskit import QuantumCircuit\n",
    "from qiskit.visualization import plot_histogram\n",
    "from qiskit_aer import Aer\n",
    "\n",
    "def nand_circuit(a, b):\n",
    "    # Create a quantum circuit with 3 qubits and 1 classical bit\n",
    "    # Qubit 0 → input a (control 1)\n",
    "    # Qubit 1 → input b (control 2)\n",
    "    # Qubit 2 → result (target of the Toffoli gate, initialized to |1⟩)\n",
    "    qc = QuantumCircuit(3, 1)\n",
    "\n",
    "    # Initialize inputs a and b:\n",
    "    # Qubits in Qiskit start in state |0⟩ by default.\n",
    "    # If input a == 1, we apply an X gate to flip qubit 0 from |0⟩ to |1⟩\n",
    "    if a == 1:\n",
    "        qc.x(0)\n",
    "\n",
    "    # Same for input b → flip qubit 1 from |0⟩ to |1⟩ if needed\n",
    "    if b == 1:\n",
    "        qc.x(1)\n",
    "\n",
    "    # Initialize the target qubit (qubit 2) to |1⟩:\n",
    "    # This is essential to simulate the NOT-AND (NAND) behavior.\n",
    "    # The Toffoli gate flips the target only if both controls are |1⟩,\n",
    "    # so we pre-set the result to 1 and let the Toffoli \"turn it off\" only when a·b = 1\n",
    "    qc.x(2)\n",
    "\n",
    "    # Apply the Toffoli gate (CCX): if both qubit 0 and qubit 1 are |1⟩,\n",
    "    # then flip qubit 2 → becomes |0⟩. Otherwise, qubit 2 stays |1⟩.\n",
    "    qc.ccx(0, 1, 2)\n",
    "\n",
    "    # Measure the result (qubit 2) into classical bit 0\n",
    "    qc.measure(2, 0)\n",
    "\n",
    "    # Run the simulation with 1 shot (just want one deterministic output)\n",
    "    backend = Aer.get_backend('qasm_simulator')\n",
    "    result = backend.run(qc, shots=1).result()\n",
    "    counts = result.get_counts()\n",
    "\n",
    "    return qc, counts\n",
    "\n",
    "qc_ls = []\n",
    "# Test all input combinations\n",
    "for a in [0, 1]:\n",
    "    for b in [0, 1]:\n",
    "        qc, counts = nand_circuit(a, b)\n",
    "        qc_ls.append({\"cirquit\": qc, \"a\": a, \"b\": b, \"counts\": counts})\n",
    "        print(f\"NAND({a}, {b}) = {counts}\")\n",
    "\n",
    "print(\"\\n\\n\")\n",
    "i = 2\n",
    "print(f\"NAND({qc_ls[i]['a']}, {qc_ls[i]['b']}) = {qc_ls[i]['counts']}\")\n",
    "qc = qc_ls[i][\"cirquit\"]\n",
    "qc_ls[i][\"cirquit\"].draw(\"mpl\")"
   ]
  },
  {
   "cell_type": "code",
   "execution_count": null,
   "metadata": {
    "id": "y6AU8AlnRTYi"
   },
   "outputs": [],
   "source": []
  }
 ],
 "metadata": {
  "colab": {
   "provenance": []
  },
  "kernelspec": {
   "display_name": "Python 3 (ipykernel)",
   "language": "python",
   "name": "python3"
  },
  "language_info": {
   "codemirror_mode": {
    "name": "ipython",
    "version": 3
   },
   "file_extension": ".py",
   "mimetype": "text/x-python",
   "name": "python",
   "nbconvert_exporter": "python",
   "pygments_lexer": "ipython3",
   "version": "3.13.3"
  }
 },
 "nbformat": 4,
 "nbformat_minor": 4
}
